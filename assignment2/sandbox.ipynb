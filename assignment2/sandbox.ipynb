{
 "cells": [
  {
   "cell_type": "code",
   "execution_count": 10,
   "id": "asian-interference",
   "metadata": {},
   "outputs": [],
   "source": [
    "%config Completer.use_jedi = False"
   ]
  },
  {
   "cell_type": "code",
   "execution_count": 195,
   "id": "incomplete-cycling",
   "metadata": {},
   "outputs": [],
   "source": [
    "import numpy as np\n",
    "from matplotlib import pyplot as plt\n",
    "from sklearn import decomposition\n",
    "from sklearn import cluster\n",
    "import pandas as pd\n",
    "import json\n",
    "import flask"
   ]
  },
  {
   "cell_type": "code",
   "execution_count": 182,
   "id": "trained-universe",
   "metadata": {},
   "outputs": [],
   "source": [
    "painting_urls = json.load(open('painting_image_urls.json', 'r'))\n",
    "episodes      = json.load(open('episode_names.json', 'r'))\n",
    "attributes    = json.load(open('attribute_names.json', 'r'))\n",
    "data = np.load('painting_attributes.npy')"
   ]
  },
  {
   "cell_type": "markdown",
   "id": "trained-cycling",
   "metadata": {},
   "source": [
    "### PCA usando SVD"
   ]
  },
  {
   "cell_type": "code",
   "execution_count": 229,
   "id": "minimal-eugene",
   "metadata": {},
   "outputs": [],
   "source": [
    "data_centered = data.copy() \n",
    "data_centered -= np.mean(data_centered, axis=0) \n",
    "U, s, VT = np.linalg.svd(data_centered)\n",
    "pca_components = VT[:2,:].astype(float)"
   ]
  },
  {
   "cell_type": "code",
   "execution_count": 230,
   "id": "worthy-tongue",
   "metadata": {},
   "outputs": [],
   "source": [
    "x_loadings = dict(zip(attributes,pca_components[0]))\n",
    "y_loadings = dict(zip(attributes,pca_components[1]))"
   ]
  },
  {
   "cell_type": "code",
   "execution_count": 234,
   "id": "functioning-sunday",
   "metadata": {},
   "outputs": [
    {
     "data": {
      "text/plain": [
       "'[{\"WAVES\": -0.11347579956054688, \"OCEAN\": -0.11975689232349396, \"WATERFALL\": -0.03304067254066467, \"SUN\": -0.07227188348770142, \"PATH\": -0.0746561735868454, \"WINTER\": 0.1348591297864914, \"CABIN\": 0.04950005188584328, \"SNOW\": 0.13303309679031372, \"ROCKS\": -0.1304750144481659, \"CUMULUS\": 0.08827707916498184, \"SNOWY_MOUNTAIN\": 0.439628928899765, \"BUSHES\": 0.15261365473270416, \"RIVER\": -0.10935908555984497, \"GRASS\": -0.09646011888980865, \"LAKE\": 0.2782639265060425, \"MOUNTAIN\": 0.5058717131614685, \"CLOUDS\": 0.1214413046836853, \"CONIFER\": 0.48212793469429016, \"DECIDUOUS\": -0.2509753108024597, \"TREE\": 0.12803123891353607}, {\"WAVES\": -0.31462517380714417, \"OCEAN\": -0.32782015204429626, \"WATERFALL\": 0.060872260481119156, \"SUN\": -0.04614000767469406, \"PATH\": 0.06328986585140228, \"WINTER\": 0.04509163647890091, \"CABIN\": 0.08909925818443298, \"SNOW\": 0.04129979386925697, \"ROCKS\": -0.1933104395866394, \"CUMULUS\": -0.2883758246898651, \"SNOWY_MOUNTAIN\": -0.003002157201990485, \"BUSHES\": 0.1508721560239792, \"RIVER\": 0.18704108893871307, \"GRASS\": 0.2284054458141327, \"LAKE\": 0.09064065665006638, \"MOUNTAIN\": 0.013203722424805164, \"CLOUDS\": -0.4906045198440552, \"CONIFER\": 0.05637339875102043, \"DECIDUOUS\": 0.4287666082382202, \"TREE\": 0.32476362586021423}]'"
      ]
     },
     "execution_count": 234,
     "metadata": {},
     "output_type": "execute_result"
    }
   ],
   "source": [
    "json.dumps([x_loadings,y_loadings])\n",
    "# myDict = {'a':['apple', 'avacado'], 'b':['banana', 'berry'], 'vitamins':2.0142}\n",
    "# jsonStr = json.dumps(myDict)"
   ]
  },
  {
   "cell_type": "markdown",
   "id": "obvious-kennedy",
   "metadata": {},
   "source": [
    "### K-Means"
   ]
  },
  {
   "cell_type": "code",
   "execution_count": 235,
   "id": "respiratory-breed",
   "metadata": {},
   "outputs": [
    {
     "data": {
      "text/plain": [
       "KMeans(n_clusters=6)"
      ]
     },
     "execution_count": 235,
     "metadata": {},
     "output_type": "execute_result"
    }
   ],
   "source": [
    "kmeans = cluster.KMeans(6)\n",
    "kmeans.fit(data)"
   ]
  },
  {
   "cell_type": "code",
   "execution_count": 266,
   "id": "banner-diary",
   "metadata": {},
   "outputs": [],
   "source": [
    "df = pd.DataFrame(data,columns=attributes)\n",
    "df[\"id\"] = df.index\n",
    "df['label'] = kmeans.labels_\n",
    "df = df.melt(id_vars=['id','label']).sort_values(by='id')"
   ]
  },
  {
   "cell_type": "code",
   "execution_count": 284,
   "id": "grateful-forge",
   "metadata": {},
   "outputs": [],
   "source": [
    "# df.to_json(orient='records')\n",
    "t = df.to_dict(orient='records')"
   ]
  },
  {
   "cell_type": "code",
   "execution_count": 299,
   "id": "fitted-services",
   "metadata": {},
   "outputs": [
    {
     "data": {
      "text/plain": [
       "{'id': 0, 'label': 2, 'variable': 'SUN', 'value': 0.0}"
      ]
     },
     "execution_count": 299,
     "metadata": {},
     "output_type": "execute_result"
    }
   ],
   "source": [
    "t[1]"
   ]
  },
  {
   "cell_type": "code",
   "execution_count": null,
   "id": "union-ethnic",
   "metadata": {},
   "outputs": [],
   "source": []
  }
 ],
 "metadata": {
  "kernelspec": {
   "display_name": "ml",
   "language": "python",
   "name": "ml"
  },
  "language_info": {
   "codemirror_mode": {
    "name": "ipython",
    "version": 3
   },
   "file_extension": ".py",
   "mimetype": "text/x-python",
   "name": "python",
   "nbconvert_exporter": "python",
   "pygments_lexer": "ipython3",
   "version": "3.6.12"
  }
 },
 "nbformat": 4,
 "nbformat_minor": 5
}
